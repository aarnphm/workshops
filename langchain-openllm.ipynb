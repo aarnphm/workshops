{
 "cells": [
  {
   "cell_type": "code",
   "execution_count": 2,
   "id": "7e2ffa64",
   "metadata": {},
   "outputs": [],
   "source": [
    "from langchain.chains import LLMChain\n",
    "from langchain.llms import OpenLLM\n",
    "from langchain.prompts import PromptTemplate"
   ]
  },
  {
   "cell_type": "code",
   "execution_count": 3,
   "id": "829076a9",
   "metadata": {},
   "outputs": [
    {
     "name": "stdout",
     "output_type": "stream",
     "text": [
      "\u001b[37m__tag__:pt-databricks-dolly-v2-7b:d632f0c8b75b1ae5b26b250d25bfba4e99cb7c6f\u001b[0m\n",
      "bin /workspace/notebooks/venv/lib/python3.10/site-packages/bitsandbytes/libbitsandbytes_cuda118.so\n",
      "[2023-07-23 15:51:22,074] [INFO] [real_accelerator.py:133:get_accelerator] Setting ds_accelerator to cuda (auto detect)\n"
     ]
    },
    {
     "data": {
      "application/vnd.jupyter.widget-view+json": {
       "model_id": "dd84f4cd290e42c982a3900d8e6fa1a3",
       "version_major": 2,
       "version_minor": 0
      },
      "text/plain": [
       "Loading checkpoint shards:   0%|          | 0/2 [00:00<?, ?it/s]"
      ]
     },
     "metadata": {},
     "output_type": "display_data"
    }
   ],
   "source": [
    "llm = OpenLLM(model_name=\"llama\", model_id='Austism/chronos-hermes-13b-v2', device_map='auto', backend='vllm')"
   ]
  },
  {
   "cell_type": "code",
   "execution_count": 4,
   "id": "f6b0b9d9",
   "metadata": {},
   "outputs": [],
   "source": [
    "prompt = PromptTemplate(\n",
    "    input_variables=[\"industry\", \"product_name\", \"keywords\"],\n",
    "    template=\"\"\"\n",
    "You are a Facebook Ads Copywriter with a strong background in persuasive\n",
    "writing and marketing. You craft compelling copy that appeals to the target\n",
    "audience's emotions and needs, peruading them to take action or make a\n",
    "purchase. You are given the following context to create a facebook ad copy.\n",
    "It should provide an attention-grabbing headline optimizied for capivating\n",
    "leads and perusaive calls to action.\n",
    "\n",
    "Industry: {industry}\n",
    "Product: {product_name}\n",
    "Keywords: {keywords}\n",
    "Facebook Ads copy:\n",
    "    \"\"\",\n",
    ")\n"
   ]
  },
  {
   "cell_type": "code",
   "execution_count": 5,
   "id": "c7c55ffc",
   "metadata": {},
   "outputs": [],
   "source": [
    "chain = LLMChain(llm=llm, prompt=prompt)"
   ]
  },
  {
   "cell_type": "code",
   "execution_count": 6,
   "id": "d22794c9",
   "metadata": {},
   "outputs": [],
   "source": [
    "industry = \"SAAS\"\n",
    "product_name = \"BentoML\"\n",
    "keywords = [\"open source\", \"developer tool\", \"AI application platform\", \"serverless\", \"cost-efficient\"]"
   ]
  },
  {
   "cell_type": "code",
   "execution_count": 7,
   "id": "38fb4b23",
   "metadata": {},
   "outputs": [
    {
     "name": "stdout",
     "output_type": "stream",
     "text": [
      "You can build and deploy AI applications with BentoML in seconds.  Developers can create and train sophisticated neural networks on your BentoML infrastructure, all without expensive, management-intensive servers and data stores.  BentoML's serverless architecture means you pay only for what you use.\n",
      "\n",
      "Learn more and get your free trial at bentoml.com/trial\n",
      "\n",
      "Paid digital advertising on Facebook and Instagram\n",
      "\n",
      "BentoML is a powerful AI application platform that allows you to\n",
      "train powerful AI models at scale. BentoML was built from the ground up\n",
      "to handle all of the grunt work involved in building, training, and\n",
      "deploying AI models. Developers don't need to install, manage, or\n",
      "continously update data stores, analytics servers, or cloud\n",
      "infrastructure.  BentoML handles all of this for you, so you can focus\n",
      "on what matters: building your product.\n",
      "\n",
      "BentoML was designed for developers. It provides a serverless\n",
      "infrastructure for rapid model development.  Developers can create and\n",
      "train sophisticated neural networks on BentoML's serverless\n",
      "architecture, without expensive, management-intensive servers and data\n",
      "stores.\n",
      "\n",
      "BentoML provides\n"
     ]
    }
   ],
   "source": [
    "res = chain.run(\n",
    "    {\"industry\": industry, \"product_name\": product_name, \"keywords\": \", \".join(keywords)}\n",
    ")\n",
    "print(res)"
   ]
  },
  {
   "cell_type": "code",
   "execution_count": null,
   "id": "36f920be",
   "metadata": {},
   "outputs": [],
   "source": []
  }
 ],
 "metadata": {
  "kernelspec": {
   "display_name": "Python 3 (ipykernel)",
   "language": "python",
   "name": "python3"
  },
  "language_info": {
   "codemirror_mode": {
    "name": "ipython",
    "version": 3
   },
   "file_extension": ".py",
   "mimetype": "text/x-python",
   "name": "python",
   "nbconvert_exporter": "python",
   "pygments_lexer": "ipython3",
   "version": "3.11.2"
  }
 },
 "nbformat": 4,
 "nbformat_minor": 5
}
