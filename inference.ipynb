{
 "cells": [
  {
   "cell_type": "code",
   "execution_count": 1,
   "id": "91d5c7c5",
   "metadata": {},
   "outputs": [],
   "source": [
    "import openllm\n",
    "\n",
    "OPENLLM_SERVER_ADDR = \"http://localhost:3000\""
   ]
  },
  {
   "cell_type": "code",
   "execution_count": 2,
   "id": "110a219a",
   "metadata": {},
   "outputs": [],
   "source": [
    "client = openllm.client.HTTPClient(OPENLLM_SERVER_ADDR)"
   ]
  },
  {
   "cell_type": "code",
   "execution_count": 3,
   "id": "5a03bb76",
   "metadata": {},
   "outputs": [],
   "source": [
    "question = \"What's the weight of earth?\""
   ]
  },
  {
   "cell_type": "code",
   "execution_count": 4,
   "id": "f91d1ab4",
   "metadata": {},
   "outputs": [
    {
     "name": "stdout",
     "output_type": "stream",
     "text": [
      "The weight of the earth is 7.972 x 10^24 kilograms (11 pounds, 4 ounces).\n"
     ]
    }
   ],
   "source": [
    "# opt\n",
    "res = client.query(question)\n",
    "print(res)"
   ]
  },
  {
   "cell_type": "code",
   "execution_count": 6,
   "id": "2856f46f",
   "metadata": {},
   "outputs": [
    {
     "name": "stdout",
     "output_type": "stream",
     "text": [
      "What's the weight of earth?\n",
      "\n",
      "The weight of the Earth is approximately 5.972 x 10^24 kilograms. This is calculated based on the Earth's mass, which is estimated to be around 5.972 x 10^24 kilograms.\n",
      "\n",
      "The weight of the Earth is different from its mass, as weight is a force that is determined by gravity, while mass is a measure of the amount of matter in an object. The weight of an object is determined by its mass and the strength of the gravitational field it is in.\n",
      "\n",
      "The Earth's mass is determined by a variety of methods, including measurements of the gravitational pull of the Moon on the Earth, the motion of artificial satellites orbiting the Earth, and the study of the Earth's moment of inertia. These methods all rely on the principle that the mass of an object is proportional to its gravitational pull on other objects.\n",
      "\n",
      "It's worth noting that the weight of the Earth is not a fixed value, as it can vary slightly depending on the location on the Earth's surface. This is because the strength of the gravitational field can vary slightly from place to place due to factors such\n"
     ]
    }
   ],
   "source": [
    "# llama 2\n",
    "res = client.query(question)\n",
    "print(res)"
   ]
  },
  {
   "cell_type": "code",
   "execution_count": 7,
   "id": "3cf41755",
   "metadata": {},
   "outputs": [],
   "source": [
    "# get a better prompt from openllm using `openllm utils get-prompt llama --format v2 \"[placeholder]\"`!\n",
    "\n",
    "prompt_tmpl = \"\"\"[INST] <<SYS>>\n",
    "\n",
    "You are a helpful, respectful and honest assistant. Always answer as helpfully as possible, while being safe.  Your answers should not include any harmful, unethical, racist, sexist, toxic, dangerous, or illegal content. Please ensure that your responses are socially unbiased and positive in nature.\n",
    "\n",
    "If a question does not make any sense, or is not factually coherent, explain why instead of answering something not correct. If you don't know the answer to a question, please don't share false information.\n",
    "\n",
    "<<SYS>>\n",
    "\n",
    "{question}\n",
    "[/INST]\n",
    "\"\"\""
   ]
  },
  {
   "cell_type": "code",
   "execution_count": 8,
   "id": "7dc27d72",
   "metadata": {},
   "outputs": [],
   "source": [
    "prompt = prompt_tmpl.format(question=question)"
   ]
  },
  {
   "cell_type": "code",
   "execution_count": 9,
   "id": "6839c938",
   "metadata": {},
   "outputs": [
    {
     "name": "stdout",
     "output_type": "stream",
     "text": [
      "[INST] <<SYS>>\n",
      "\n",
      "You are a helpful, respectful and honest assistant. Always answer as helpfully as possible, while being safe.  Your answers should not include any harmful, unethical, racist, sexist, toxic, dangerous, or illegal content. Please ensure that your responses are socially unbiased and positive in nature.\n",
      "\n",
      "If a question does not make any sense, or is not factually coherent, explain why instead of answering something not correct. If you don't know the answer to a question, please don't share false information.\n",
      "\n",
      "<<SYS>>\n",
      "\n",
      "What's the weight of earth?\n",
      "[/INST]\n",
      "  Hello! I'm here to help answer your questions safely and helpfully. The weight of the Earth is a great question! However, I want to clarify that the term \"weight\" can be a bit misleading when referring to a planet like Earth, as it is not a static object that can be weighed like a physical object. Instead, Earth is a dynamic and constantly moving celestial body with a complex composition of gases, liquids, and solids.\n",
      "\n",
      "If you're looking for information on the mass of Earth, I can help with that! The mass of Earth is approximately 5.972 x 10^24 kilograms. This is a well-established scientific fact that is based on a variety of measurements and observations.\n",
      "\n",
      "Please let me know if there's anything else I can help with!\n"
     ]
    }
   ],
   "source": [
    "res = client.query(prompt)\n",
    "print(res)"
   ]
  },
  {
   "cell_type": "code",
   "execution_count": 10,
   "id": "7bd1da68",
   "metadata": {},
   "outputs": [],
   "source": [
    "# a sumarize example\n",
    "question = \"\"\"Summarize this dialog:\n",
    "A: Hi Tom, are you busy tomorrow’s afternoon?\n",
    "B: I’m pretty sure I am. What’s up?\n",
    "A: Can you go with me to the animal shelter?.\n",
    "B: What do you want to do?\n",
    "A: I want to get a puppy for my son.\n",
    "B: That will make him so happy.\n",
    "A: Yeah, we’ve discussed it many times. I think he’s ready now.\n",
    "B: That’s good. Raising a dog is a tough issue. Like having a baby ;-) \n",
    "A: I'll get him one of those little dogs.\n",
    "B: One that won't grow up too big;-)\n",
    "A: And eat too much;-))\n",
    "B: Do you know which one he would like?\n",
    "A: Oh, yes, I took him there last Monday. He showed me one that he really liked.\n",
    "B: I bet you had to drag him away.\n",
    "A: He wanted to take it home right away ;-).\n",
    "B: I wonder what he'll name it.\n",
    "A: He said he’d name it after his dead hamster – Lemmy  - he's  a great Motorhead fan :-)))\n",
    "---\n",
    "Summary:\"\"\"\n"
   ]
  },
  {
   "cell_type": "code",
   "execution_count": 11,
   "id": "fd4b594a",
   "metadata": {},
   "outputs": [
    {
     "name": "stdout",
     "output_type": "stream",
     "text": [
      "Summarize this dialog:\n",
      "A: Hi Tom, are you busy tomorrow’s afternoon?\n",
      "B: I’m pretty sure I am. What’s up?\n",
      "A: Can you go with me to the animal shelter?.\n",
      "B: What do you want to do?\n",
      "A: I want to get a puppy for my son.\n",
      "B: That will make him so happy.\n",
      "A: Yeah, we’ve discussed it many times. I think he’s ready now.\n",
      "B: That’s good. Raising a dog is a tough issue. Like having a baby ;-) \n",
      "A: I'll get him one of those little dogs.\n",
      "B: One that won't grow up too big;-)\n",
      "A: And eat too much;-))\n",
      "B: Do you know which one he would like?\n",
      "A: Oh, yes, I took him there last Monday. He showed me one that he really liked.\n",
      "B: I bet you had to drag him away.\n",
      "A: He wanted to take it home right away ;-).\n",
      "B: I wonder what he'll name it.\n",
      "A: He said he’d name it after his dead hamster – Lemmy  - he's  a great Motorhead fan :-)))\n",
      "---\n",
      "Summary:\n",
      "A wants to go to the animal shelter with B to get a puppy for A's son. They discuss the responsibilities of raising a dog and the different breeds available. A mentions that A's son is a fan of the band Motorhead and might name the puppy after his dead hamster, Lemmy.\n"
     ]
    }
   ],
   "source": [
    "res = client.query(question)\n",
    "print(res)"
   ]
  },
  {
   "cell_type": "code",
   "execution_count": 12,
   "id": "abd86085",
   "metadata": {},
   "outputs": [],
   "source": [
    "prompt = prompt_tmpl.format(question=question)"
   ]
  },
  {
   "cell_type": "code",
   "execution_count": 13,
   "id": "1fe2ee40",
   "metadata": {
    "scrolled": true
   },
   "outputs": [
    {
     "name": "stdout",
     "output_type": "stream",
     "text": [
      "[INST] <<SYS>>\n",
      "\n",
      "You are a helpful, respectful and honest assistant. Always answer as helpfully as possible, while being safe.  Your answers should not include any harmful, unethical, racist, sexist, toxic, dangerous, or illegal content. Please ensure that your responses are socially unbiased and positive in nature.\n",
      "\n",
      "If a question does not make any sense, or is not factually coherent, explain why instead of answering something not correct. If you don't know the answer to a question, please don't share false information.\n",
      "\n",
      "<<SYS>>\n",
      "\n",
      "Summarize this dialog:\n",
      "A: Hi Tom, are you busy tomorrow’s afternoon?\n",
      "B: I’m pretty sure I am. What’s up?\n",
      "A: Can you go with me to the animal shelter?.\n",
      "B: What do you want to do?\n",
      "A: I want to get a puppy for my son.\n",
      "B: That will make him so happy.\n",
      "A: Yeah, we’ve discussed it many times. I think he’s ready now.\n",
      "B: That’s good. Raising a dog is a tough issue. Like having a baby ;-) \n",
      "A: I'll get him one of those little dogs.\n",
      "B: One that won't grow up too big;-)\n",
      "A: And eat too much;-))\n",
      "B: Do you know which one he would like?\n",
      "A: Oh, yes, I took him there last Monday. He showed me one that he really liked.\n",
      "B: I bet you had to drag him away.\n",
      "A: He wanted to take it home right away ;-).\n",
      "B: I wonder what he'll name it.\n",
      "A: He said he’d name it after his dead hamster – Lemmy  - he's  a great Motorhead fan :-)))\n",
      "---\n",
      "Summary:\n",
      "[/INST]\n",
      "Sure! Here is a summary of the dialog:\n",
      "\n",
      "A and B are discussing going to the animal shelter to get a puppy for A's son. A is sure that B is busy the next afternoon, but B confirms that they can go together. A mentions that their son has been asking for a puppy for a long time and is ready to take care of one. B compares raising a dog to having a baby and warns that it can be a tough responsibility. A and B discuss the size and breed of the puppy and A mentions that their son wants a small dog that won't grow up too big or eat too much. They also talk about the name of the puppy, with A mentioning that their son wants to name it after his dead hamster, Lemmy.\n"
     ]
    }
   ],
   "source": [
    "res = client.query(prompt)\n",
    "print(res)"
   ]
  },
  {
   "cell_type": "code",
   "execution_count": 14,
   "id": "4e0a2c77",
   "metadata": {},
   "outputs": [],
   "source": [
    "# configuration per request\n",
    "\n",
    "client = openllm.client.HTTPClient('http://localhost:3000')\n",
    "\n",
    "conf = dict(\n",
    "    eos_token_id=2,\n",
    "    max_new_tokens=2048,\n",
    "    length_penalty=1.1,\n",
    "    pad_token_id=0,\n",
    "    repetition_penalty=1.1,\n",
    "    temperature=0.3,\n",
    "    top_k=5,\n",
    "    top_p=0.85,\n",
    ")"
   ]
  },
  {
   "cell_type": "code",
   "execution_count": 15,
   "id": "7a031102",
   "metadata": {},
   "outputs": [
    {
     "name": "stdout",
     "output_type": "stream",
     "text": [
      "#极客热点播报# 【#苹果悄悄研发ai大语言模型# ，聊天机器人产品已在推进】苹果公司正在秘密开发一个名为“Siri”的AI系统。该系统的目标是让iPhone和iPad上的语音助手能够理解人类复杂而多样的对话内容。据知情人士透露，这个项目代号为“Latte”的项目已经进行了数年时间，目前仍在进行中。(新浪科技)\n"
     ]
    }
   ],
   "source": [
    "prompt = \"\"\"What's the weight of earth?\"\"\"\n",
    "res = client.query(prompt, **conf)\n",
    "print(res)"
   ]
  },
  {
   "cell_type": "code",
   "execution_count": 16,
   "id": "b5cfe52e",
   "metadata": {},
   "outputs": [
    {
     "name": "stdout",
     "output_type": "stream",
     "text": [
      "甄嬛：正因夜深霜浓，陵容妹妹独步难行，所以臣妾特来与妹妹做伴。\n",
      "陵容：姐姐琴技高妙，臣妾恐清歌单调，所以特邀姐姐同来。\n",
      "华妃：琴曲相合自然是最好的了，难为莞贵人了。\n",
      "陵容：不知华妃娘娘喜欢听什么？\n",
      "华妃：花好月圆人长久今夜良宵，就唱支情意缠绵的曲子吧。\n",
      "陵容：是。(唱)小山重叠金明灭，鬓云欲度香腮雪。懒起画蛾眉，弄妆梳洗迟。照花前后镜，花面交相映。新\n",
      "帖绣罗襦，双双金鹧鸪。新帖绣罗襦，双双金鹧鹄，双双金鹧鸪。\n",
      "华妃：歌倒是好听，只是未闻情好之意，安常在不是在敷衍本宫吧？\n",
      "陵容：不敢，只怕皇后娘娘不喜这首词罢了。\n",
      "华妃：哼！你这贱婢竟敢如此无礼，看我不打死你。\n",
      "陵容：奴才知罪，请娘娘责罚。\n",
      "华妃：大胆刁奴，还不快跪下认错。\n",
      "陵容：奴才该死，还望娘娘饶命。\n",
      "华妃：起来说话。\n",
      "陵容：谢过娘娘宽恕。\n",
      "华妃：既然知道错了，那便好好伺候我喝茶吧。\n",
      "陵容：遵旨。\n",
      "华妃：今日天气甚好，不如我们去御花园走一遭如何？\n",
      "陵容：多谢娘娘提议，不过臣妾身子不适，还是先回去了。\n",
      "华妃：怎么会呢？难道是因为刚才的事吗？\n",
      "陵容：没有，只是臣妾身体不好，不宜久留。\n",
      "华妃：哦？原来如此啊，那就劳烦娘娘代我向皇上问好了。\n",
      "陵容：是。\n",
      "华妃：对了，听说最近有位叫沈眉庄的小姐要进宫选秀，不知道她可否愿意陪我一同前去看看？\n",
      "陵容：当然可以啦，只要能见到皇上和太后娘娘就好。\n",
      "华妃：嗯，也好，正好让她们姐妹俩见见面。\n",
      "陵容：好的，谢谢娘娘的好意。\n",
      "华妃：不用客气，咱们这就出发吧。\n",
      "陵容：是。\n",
      "\n"
     ]
    }
   ],
   "source": [
    "question = \"\"\"Summarize this dialog:\n",
    "A: Hi Tom, are you busy tomorrow’s afternoon?\n",
    "B: I’m pretty sure I am. What’s up?\n",
    "A: Can you go with me to the animal shelter?.\n",
    "B: What do you want to do?\n",
    "A: I want to get a puppy for my son.\n",
    "B: That will make him so happy.\n",
    "A: Yeah, we’ve discussed it many times. I think he’s ready now.\n",
    "B: That’s good. Raising a dog is a tough issue. Like having a baby ;-) \n",
    "A: I'll get him one of those little dogs.\n",
    "B: One that won't grow up too big;-)\n",
    "A: And eat too much;-))\n",
    "B: Do you know which one he would like?\n",
    "A: Oh, yes, I took him there last Monday. He showed me one that he really liked.\n",
    "B: I bet you had to drag him away.\n",
    "A: He wanted to take it home right away ;-).\n",
    "B: I wonder what he'll name it.\n",
    "A: He said he’d name it after his dead hamster – Lemmy  - he's  a great Motorhead fan :-)))\n",
    "---\n",
    "Summary:\"\"\"\n",
    "\n",
    "res = client.query(question, **conf)\n",
    "print(res)"
   ]
  },
  {
   "cell_type": "code",
   "execution_count": null,
   "id": "28e53bac",
   "metadata": {},
   "outputs": [],
   "source": []
  }
 ],
 "metadata": {
  "kernelspec": {
   "display_name": "Python 3 (ipykernel)",
   "language": "python",
   "name": "python3"
  },
  "language_info": {
   "codemirror_mode": {
    "name": "ipython",
    "version": 3
   },
   "file_extension": ".py",
   "mimetype": "text/x-python",
   "name": "python",
   "nbconvert_exporter": "python",
   "pygments_lexer": "ipython3",
   "version": "3.11.2"
  }
 },
 "nbformat": 4,
 "nbformat_minor": 5
}
